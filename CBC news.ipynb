{
 "cells": [
  {
   "cell_type": "code",
   "execution_count": 3,
   "metadata": {},
   "outputs": [
    {
     "name": "stdout",
     "output_type": "stream",
     "text": [
      "Successfully wrote 100 articles to cbc_articles.csv\n"
     ]
    }
   ],
   "source": [
    "import requests\n",
    "import csv\n",
    "from datetime import datetime, timedelta\n",
    "\n",
    "api_key = ''\n",
    "\n",
    "# Endpoint for the NewsAPI 'everything' request\n",
    "url = 'https://newsapi.org/v2/everything'\n",
    "\n",
    "# Calculate dates for the past year\n",
    "today = datetime.now()\n",
    "from_date = (today - timedelta(days=30)).strftime('%Y-%m-%d')\n",
    "to_date = today.strftime('%Y-%m-%d')\n",
    "\n",
    "# Parameters for the API request\n",
    "params = {\n",
    "    'apiKey': api_key,\n",
    "    'sources': 'cbc-news',  \n",
    "    'q': 'markets OR business OR finance', \n",
    "    'from': from_date,\n",
    "    'to': to_date,\n",
    "    'pageSize': 100,  \n",
    "    'language': 'en',\n",
    "    'sortBy': 'publishedAt',\n",
    "}\n",
    "\n",
    "all_articles = []\n",
    "page = 1\n",
    "\n",
    "while True:\n",
    "    params['page'] = page\n",
    "    response = requests.get(url, params=params)\n",
    "\n",
    "    if response.status_code == 200:\n",
    "        data = response.json()\n",
    "        articles = data['articles']\n",
    "        total_results = data['totalResults']\n",
    "\n",
    "        if not articles:\n",
    "            break\n",
    "\n",
    "        all_articles.extend(articles)\n",
    "\n",
    "        if len(all_articles) >= 100 or len(all_articles) >= total_results:\n",
    "            break\n",
    "\n",
    "        page += 1\n",
    "    else:\n",
    "        print('Error:', response.status_code)\n",
    "        print(response.text)\n",
    "        break\n",
    "all_articles = all_articles[:100]\n",
    "\n",
    "\n",
    "with open('cbc_articles.csv', 'w', newline='', encoding='utf-8') as csvfile:\n",
    "    fieldnames = ['Title', 'URL', 'Description', 'Content']\n",
    "    writer = csv.DictWriter(csvfile, fieldnames=fieldnames)\n",
    "\n",
    "    writer.writeheader()\n",
    "    for article in all_articles:\n",
    "        writer.writerow({\n",
    "            'Title': article.get('title', ''),\n",
    "            'URL': article.get('url', ''),\n",
    "            'Description': article.get('description', ''),\n",
    "            'Content': article.get('content', '')\n",
    "        })\n",
    "\n",
    "print(f\"Successfully wrote {len(all_articles)} articles to cbc_articles.csv\")\n"
   ]
  }
 ],
 "metadata": {
  "kernelspec": {
   "display_name": "Python 3",
   "language": "python",
   "name": "python3"
  },
  "language_info": {
   "codemirror_mode": {
    "name": "ipython",
    "version": 3
   },
   "file_extension": ".py",
   "mimetype": "text/x-python",
   "name": "python",
   "nbconvert_exporter": "python",
   "pygments_lexer": "ipython3",
   "version": "3.13.0"
  }
 },
 "nbformat": 4,
 "nbformat_minor": 2
}
